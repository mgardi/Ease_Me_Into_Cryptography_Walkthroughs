{
 "cells": [
  {
   "cell_type": "markdown",
   "metadata": {},
   "source": [
    "# Cryptography: Symmetric Ciphers"
   ]
  },
  {
   "cell_type": "markdown",
   "metadata": {},
   "source": [
    "This series is intended to be a layperson friendly explantion of the basics of cryptography. \n",
    "\n",
    "As with anything complex, there is jargon that makes the topic seem inaccessible. You'll see the most import terms and their defintions in bold throughout this walk through. Like this! \n",
    "* **term** *definition*\n",
    "\n",
    "Also! we will give you some extra info in blockquotes, like this \n",
    "> This info is good to know but dont worry no one is testing you on it \n",
    "\n",
    "Finally! There is no better way to learn then getting your hands dirty! We will ease you in by giving you \n",
    "```code snippets```\n",
    " but it will soak in a little better if you type it yourself instead of copying and pasting. \n",
    "\n",
    "## What is \"cryptography\"? \n",
    "\n",
    "The word \"cryptography\" comes from a combination of the Ancient Greek words kryptós for “hidden or secret” and graphein which is “to write”. At its most basic it is the ability to send and receive a private message. The *key* is that you want your recipient and only your recipient to be able to read the message. Therefore, in most cases cryptography is a 2-way street in hiding AND unhiding a communicated message.\n"
   ]
  },
  {
   "cell_type": "markdown",
   "metadata": {},
   "source": [
    "## What is a cipher?\n",
    "\n",
    "A cipher is a **cryptographic algorithm** that provides a way to encrypt as well as decrypt data. This allows someone to jumble up some info, send it safely without revealing the content, and have someone at the other end un-jumble it to see the original info.\n",
    "\n",
    "But it’s useless if we can’t control who is able to decrypt the message. Fortunately, there is another input to a cipher – the **key**! This is the small piece of information that is necessary in order to encrypt and decrypt information with a cipher. Some ciphers require other small details as well such as an initialization vector, but we are not going to focus on those for now.\n",
    "\n",
    "* **Cryptographic Algorithm** *is just a fancy term for jibberish instructions. It’s what we call the ruleset that is used to take data from one state to another and (most of the time) back.*\n",
    "\n",
    "* A **key** *is a piece of information used as input into an encryption or decryption algorithm in addition to the data that needs to be transformed. The data cannot properly be transformed without the proper key data.*\n"
   ]
  },
  {
   "cell_type": "markdown",
   "metadata": {},
   "source": [
    "## Let's make it easy!\n",
    "\n",
    "In this walk through we will use the **Cryptographic Algorithms** implemented in the Python Cryptography Toolkit (pycrypto). Pycrypto is a collection of both secure hash functions (such as SHA256 and RIPEMD160), and various encryption algorithms (AES, DES, RSA, ElGamal, XOR, etc.). But mostly it means we don't have to code the hard stuff from scratch. \n"
   ]
  },
  {
   "cell_type": "markdown",
   "metadata": {},
   "source": [
    "## Getting started"
   ]
  },
  {
   "cell_type": "markdown",
   "metadata": {},
   "source": [
    "Lets begin by importing a couple cryptographic algorithms from pycrypto. \n",
    "\n",
    "Type the following into the code box below:\n",
    "\n",
    "```from Crypto.Cipher import AES, XOR```"
   ]
  },
  {
   "cell_type": "code",
   "execution_count": 1,
   "metadata": {},
   "outputs": [],
   "source": []
  },
  {
   "cell_type": "markdown",
   "metadata": {},
   "source": [
    "So how do we use these things (XOR,AES)? To use **symmetric ciphers** like XOR or AES, we put the **plaintext** and the **key** into the algorithm, tell the algorithim which direction we want to go (in this case encrypt), and it spits out **ciphertext** or encrypted message. \n",
    "\n",
    "* **Plaintext** is your message, the content to be communicated and is understandable and readable.\n",
    "* **Ciphertext** is your hidden message, the content after it has been hidden (encrypted) and is no longer understandable.\n",
    "* **Symmetric Ciphers** are a family of ciphers that uses the same key to encrypt as it does to decrypt; these are sometimes referred to as secret key algorithms because if the key is the same on both sides, it needs to be kept secret so that not just anyone can decrypt it.\n",
    "\n",
    "We now know we need a key and a plaintext to get started so lets declare a couple variables\n",
    "\n",
    "Type the following into the code box below:\n",
    "\n",
    "```key = 1\n",
    "plaintext = 5 \n",
    "```"
   ]
  },
  {
   "cell_type": "code",
   "execution_count": 2,
   "metadata": {},
   "outputs": [],
   "source": []
  },
  {
   "cell_type": "markdown",
   "metadata": {},
   "source": [
    "## How does Cryptography Work\n",
    "\n",
    "Without getting too in the weeds ciphers work by switching one character or number for another. One of the most basic **symmetric ciphers** is XOR which uses 'exclusive or' as its **cryptographic algorithm**.\n",
    "\n",
    "You have probably seen a binary numbers before, its numbers based on base_2 instead of the base_10 we are used to. Binary numbers are fun and you should research them! but essentially each numbers place is set by the value of 2^n and the first few are\n",
    "\n",
    "\n",
    "| Base_10  |  Base_2 |\n",
    "|----------|---------|\n",
    "|    1     |  0001   |\n",
    "|    2     |  0010   |\n",
    "|    3     |  0011   |\n",
    "|    4     |  0100   |\n",
    "|    5     |  0101   |\n",
    "\n",
    "\n",
    "If you XOR a binary **plaintext** with a binary **key** it means the **ciphertext** is the XOR or 'exclusive or' of the **plaintext** and **key**. \n",
    "\n",
    "So if our...\n",
    "\n",
    "plaintext = 1 (base_10) = 0001 (base_2) \n",
    "\n",
    "and our key is...\n",
    "\n",
    "key = 5 (base_10) = 0101 (base_2) \n",
    "___\n",
    "we expect the ciphertext will be ciphertext = 0100 (base_2) \n",
    "\n",
    "because XOR means the ciphertext is 1 when either plaintext or key are 1 but not when both are 1, hence the *exclusive* in XOR. What is 0100 in base_10?\n",
    "\n",
    "## Why does this matter?\n",
    "## Let's start by looking at the binary of our plaintext and key we declared above\n",
    "\n",
    "First lets convert both our declared variables to binary \n",
    "\n",
    "Type the following into the code box below:\n",
    "\n",
    "```binary_key = bin(key)\n",
    "binary_plaintext = bin(plaintext)\n",
    "```\n"
   ]
  },
  {
   "cell_type": "code",
   "execution_count": 3,
   "metadata": {},
   "outputs": [],
   "source": []
  },
  {
   "cell_type": "markdown",
   "metadata": {},
   "source": [
    "Lets take a look at both the binary key and plain text we just created\n",
    "\n",
    "Type the following into the code box below:\n",
    "\n",
    "```print(\"Binary of key used in XOR cipher: \")\n",
    "print(binary_key)\n",
    "print(\"\\nBinary of plaintext or message used in XOR cipher: \")\n",
    "print(binary_plaintext)\n",
    "```"
   ]
  },
  {
   "cell_type": "code",
   "execution_count": null,
   "metadata": {},
   "outputs": [],
   "source": []
  },
  {
   "cell_type": "markdown",
   "metadata": {},
   "source": [
    "Did you notice the binary evaluates to two different lengths? Pycrypto is actually low level enough that it only correctly encrypts **keys** and **plaintext** that are divisible by 16. So we will **pad** both key and plain text to have a **block size** of at least 16.\n",
    "\n",
    "* **Padding** is a process that adds to data of an improper size (i.e. not a multiple of the block size) in order to make it the proper size to fit into the algorithm (some ciphers require inputs be a multiple of a certain size in order to function properly).\n",
    "* **Block Size** refers to the size of chunks that an algorithm will chop data into in order to process it.\n",
    "\n",
    "Type the following into the code box below:\n",
    "\n",
    "```binary_key_padded = format(key,'016b')\n",
    "binary_plaintext_padded = format(plaintext,'016b')\n",
    "```"
   ]
  },
  {
   "cell_type": "code",
   "execution_count": 5,
   "metadata": {},
   "outputs": [],
   "source": []
  },
  {
   "cell_type": "markdown",
   "metadata": {},
   "source": [
    "Lets take a look at both the binary key and plaintext as padded binary now\n",
    "\n",
    "Type the following into the code box below:\n",
    "\n",
    "```print(\"Padded Binary of key used in XOR cipher: \")\n",
    "print(binary_key_padded)\n",
    "print(\"Padded Binary of plaintext or message used in XOR cipher: \")\n",
    "print(binary_plaintext_padded)\n",
    "```"
   ]
  },
  {
   "cell_type": "code",
   "execution_count": null,
   "metadata": {},
   "outputs": [],
   "source": []
  },
  {
   "cell_type": "markdown",
   "metadata": {},
   "source": [
    "## It's time to encrypt!\n",
    "\n",
    "Now that we have the basics down lets encrypt something!!! \n",
    "\n",
    "First we will intialize the encryption object\n",
    "\n",
    "Type the following into the code box below:\n",
    "\n",
    "```xOR_encrypt = XOR.new(binary_key_padded)```\n"
   ]
  },
  {
   "cell_type": "code",
   "execution_count": 7,
   "metadata": {},
   "outputs": [],
   "source": []
  },
  {
   "cell_type": "markdown",
   "metadata": {},
   "source": [
    "Now that we have intialized the encryption object lets use it to encrypt the **plaintext** to get the **ciphertext**\n",
    "\n",
    "Type the following into the code box below:\n",
    "\n",
    "```xOR_ciphertext = xOR_encrypt.encrypt(binary_plaintext_padded)\n",
    "```"
   ]
  },
  {
   "cell_type": "code",
   "execution_count": 8,
   "metadata": {},
   "outputs": [],
   "source": []
  },
  {
   "cell_type": "markdown",
   "metadata": {},
   "source": [
    "Lets look at our results!\n",
    "\n",
    "Type the following into the code box below:\n",
    "\n",
    "```print(\"The resulting ciphertext from XOR is: \")\n",
    "print(XOR_ciphertext)\n",
    "```"
   ]
  },
  {
   "cell_type": "code",
   "execution_count": null,
   "metadata": {},
   "outputs": [],
   "source": []
  },
  {
   "cell_type": "markdown",
   "metadata": {},
   "source": [
    "Does the resulting cipertext make sense to you? Does it look like our expected outcome when we dicussed how cryptography works?"
   ]
  },
  {
   "cell_type": "markdown",
   "metadata": {},
   "source": [
    "## We encrypted, now can we get it back?\n",
    "\n",
    "We will put it all together to decrypt the ciphertext we just created\n",
    "\n",
    "1. First we will intialize the decryption object the same way we intialized the encryption object. Using same padded key\n",
    "2. We will use the decryption object to decrypt() the xOR_ciphertext we just printed above\n",
    "3. We will print our results to see!\n",
    "\n",
    "Type the following into the code box below:\n",
    "\n",
    "```xOR_decrypt = XOR.new(binary_key_padded) \n",
    "xOR_plaintext = xOR_decrypt.decrypt(xOR_ciphertext)\n",
    "print(\"XOR decrypted data: \")\n",
    "print(xOR_plaintext)\n",
    "```\n"
   ]
  },
  {
   "cell_type": "code",
   "execution_count": null,
   "metadata": {},
   "outputs": [],
   "source": []
  },
  {
   "cell_type": "markdown",
   "metadata": {},
   "source": [
    "## Sweet you got your message back!\n",
    "\n",
    "Dont belevie me? What is the base 10 equivalent of the plaintext we just found? does it match the 'plaintext' variable we declared at the beginning?"
   ]
  },
  {
   "cell_type": "markdown",
   "metadata": {},
   "source": [
    "# Numbers are fun, but how about encrypting some actual messages"
   ]
  },
  {
   "cell_type": "markdown",
   "metadata": {},
   "source": [
    "We will use the AES **cryptographic algorithm** to encrypt and decrypt some text next. Like the XOR algorithim it requires we declare a key and plaintext variable, but also the *initialization vector (IV)* as another piece of input that will go into the AES **cryptographic algorithm** as well as what *mode* we want the AES algorithim to run in. \n",
    "\n",
    "> A couple of well-known symmetric ciphers are AES and 3DES. AES stands for Advanced Encryption Standard and 3DES is also known as TDEA, Triple Data Encryption Algorithm. We will use AES in our examples with python below, since it is widely known.\n",
    "\n",
    "We are going to take a few shortcuts this time though\n",
    "\n",
    "* Instead of converting to binary we will declare the key and plain text as binary to begin with by using a binary string b'*sometext*'. A binary string is human redable in the code but your computer *interprets* it as the binary the **cryptographic algorithm** requires \n",
    "* Also instead of worying about **padding** this time we are just going to make our strings 16 characters in length since we know 16 is divisible by 16\n",
    "\n",
    "### Lets declare our variables!\n",
    "\n",
    "Type the following into the code box below:\n",
    "\n",
    "```key = b\"testkey,testkey!\"\n",
    "plaintext = b\"cryptography yay\"\n",
    "iv = b\"randomIVrandomIV\"\n",
    "mode = AES.MODE_CBC\n",
    "```"
   ]
  },
  {
   "cell_type": "code",
   "execution_count": 11,
   "metadata": {},
   "outputs": [],
   "source": []
  },
  {
   "cell_type": "markdown",
   "metadata": {},
   "source": [
    "Like before we will intialize a new instance of the **cryptographic algorithim** this time or algorithim is AES \n",
    "\n",
    "Typing the following into the code box below:\n",
    "\n",
    "```aes_encrypt = AES.new(key, mode, iv)```"
   ]
  },
  {
   "cell_type": "code",
   "execution_count": 12,
   "metadata": {},
   "outputs": [],
   "source": []
  },
  {
   "cell_type": "markdown",
   "metadata": {},
   "source": [
    "Now that we have intialized the encryption object lets use it to encrypt the **plaintext** to get the **ciphertext**\n",
    "\n",
    "Type the following into the code box below:\n",
    "\n",
    "```ciphertext = aes_encrypt.encrypt(plaintext)\n",
    "```"
   ]
  },
  {
   "cell_type": "code",
   "execution_count": 13,
   "metadata": {},
   "outputs": [],
   "source": []
  },
  {
   "cell_type": "markdown",
   "metadata": {},
   "source": [
    "Lets look at our results!\n",
    "\n",
    "Type the following into the code box below:\n",
    "\n",
    "```print(\"AES encrypted data: \")\n",
    "print(ciphertext)\n",
    "```"
   ]
  },
  {
   "cell_type": "code",
   "execution_count": 14,
   "metadata": {},
   "outputs": [
    {
     "name": "stdout",
     "output_type": "stream",
     "text": [
      "AES encrypted data: \n",
      "b'G\\x9a\\xed\\xadAp\\xf4\\x94\\x1cx\\xce\\x9d\\xc2\\xf6\\xccL'\n"
     ]
    }
   ],
   "source": []
  },
  {
   "cell_type": "markdown",
   "metadata": {},
   "source": [
    "### Okay now we have gobbledygook again, lets get our message back!\n",
    "\n",
    "Like before we will intialize a new instance of the cryptographic algorithim.\n",
    "* remember you need the same key, iv and mode to get your message back!\n",
    "\n",
    "Typing the following into the code box below:\n",
    "\n",
    "```aes_decrypt = AES.new(key, AES.MODE_CBC, iv)\n",
    "```"
   ]
  },
  {
   "cell_type": "code",
   "execution_count": 15,
   "metadata": {},
   "outputs": [],
   "source": []
  },
  {
   "cell_type": "markdown",
   "metadata": {},
   "source": [
    "Now that we have intialized the decryption object lets use it to decrypt the **ciphertext** to get the **plaintext**\n",
    "\n",
    "Type the following into the code box below:\n",
    "\n",
    "```decrypted_plaintext = aes_decrypt.decrypt(ciphertext)\n",
    "```"
   ]
  },
  {
   "cell_type": "code",
   "execution_count": 16,
   "metadata": {},
   "outputs": [],
   "source": []
  },
  {
   "cell_type": "markdown",
   "metadata": {},
   "source": [
    "Lets look at our results!\n",
    "\n",
    "Type the following into the code box below:\n",
    "\n",
    "```print(\"AES decrypted data: \")\n",
    "print(decrypted_plaintext)\n",
    "```"
   ]
  },
  {
   "cell_type": "code",
   "execution_count": null,
   "metadata": {},
   "outputs": [],
   "source": []
  },
  {
   "cell_type": "markdown",
   "metadata": {},
   "source": [
    "# You did it! \n",
    "## You have encrypted and decrypted using **TWO** cryptographic algorithims\n",
    "\n",
    "Do you have any thoughts on which one might be more secure?\n",
    "\n",
    "other follow up questions..."
   ]
  },
  {
   "cell_type": "markdown",
   "metadata": {},
   "source": [
    "# Text is fun, but can we encrypt something else?\n",
    "\n",
    "## YES! Encryption/decryption will work on any data\n",
    "## Lets do a  picture next!\n",
    "\n",
    "Before we get started lets look at the original **plaintext** image. You should be able to find a 'Tines.png' image in the same folder this notebook is in by returning to the file tree. You can click on the jupyter logo to get there. \n",
    "\n",
    "---\n",
    "\n",
    "Welcome back! Did you see the picture? Good lets see what we can do with it!\n",
    "\n",
    "This time we went ahaed and put it all together and provided the code below. Read through it! \n",
    "\n",
    "Do you recognize some of the same steps we did before? Can you find the function that encrypts? The function that decrypts?\n",
    "\n",
    "When you are done reviewing run the code block:\n"
   ]
  },
  {
   "cell_type": "code",
   "execution_count": 18,
   "metadata": {},
   "outputs": [],
   "source": [
    "from Crypto.Cipher import AES #Using Pycrypto so we dont have to code the hard stuff\n",
    "import os, random, struct\n",
    "from PIL import Image\n",
    "\n",
    "#Declare or variables required by the AES cryptographic algoritim\n",
    "key = b\"testkey,testkey!\"\n",
    "plaintext = b\"cryptography yay\"\n",
    "iv = b\"randomIVrandomIV\"\n",
    "mode = AES.MODE_CBC\n",
    "\n",
    "# AES CBC Encryption\n",
    "def aes_cbc_encrypt(key, iv, data, mode=AES.MODE_CBC):\n",
    "    aes_encrypt = AES.new(key, mode, iv) #Intilaize a encryption object\n",
    "    new_data = aes_encrypt.encrypt(data) #Encrypt your data or plaintext\n",
    "    return new_data\n",
    "\n",
    "# AES CBC Decryption\n",
    "def aes_cbc_decrypt(key, iv, data, mode=AES.MODE_CBC):\n",
    "    aes_decrypt = AES.new(key, mode, iv) #Intilaize a decryption object\n",
    "    new_data = aes_decrypt.decrypt(data) #Decrypt your data or ciphertext\n",
    "    return new_data\n",
    "\n",
    "# AES requires that plaintexts be a multiple of 16, so we add padding to data as needed\n",
    "def pad(data):\n",
    "    return data + b\"\\x00\"*(16-len(data)%16) \n",
    "\n",
    "# Maps the RGB, So we can create a picture from the resulting encrypted/decrypted data\n",
    "def convert_to_RGB(data):\n",
    "    r, g, b = tuple(map(lambda d: [data[i] for i in range(0,len(data)) if i % 3 == d], [0, 1, 2]))\n",
    "    pixels = tuple(zip(r,g,b))\n",
    "    return pixels\n",
    "\n",
    "def encrypt_image(filename, filename_out=None ):\n",
    "    format = \"BMP\"\n",
    "    \n",
    "    # Opens image and converts it to RGB format for PIL\n",
    "    # Not prefect so you will see some data loss\n",
    "    im = Image.open(filename)\n",
    "    data = im.convert(\"RGB\").tobytes() \n",
    " \n",
    "    # Since we will pad the data to satisfy AES's multiple-of-16 requirement, we will store the original data length and \"unpad\" it later.\n",
    "    original = len(data) \n",
    " \n",
    "    # Encrypts using AES\n",
    "    new = convert_to_RGB(aes_cbc_encrypt(key, iv, pad(data))[:original]) \n",
    "    \n",
    "    #create a file name out if not set \n",
    "    if not filename_out:\n",
    "        filename_out = os.path.splitext(filename)[0]+'.encoded'\n",
    "        \n",
    "    \n",
    "    # Create a new PIL Image object and save the old image data into the new image.\n",
    "    im2 = Image.new(im.mode, im.size)\n",
    "    im2.putdata(new)\n",
    "    \n",
    "    #Save image\n",
    "    im2.save(filename_out+\".\"+format, format)\n",
    "    \n",
    "def decrypt_image(filename, filename_out=None ):\n",
    "    format = \"BMP\"\n",
    "    \n",
    "    # Opens image and converts it to RGB format for PIL\n",
    "    im = Image.open(filename)\n",
    "    data = im.convert(\"RGB\").tobytes() \n",
    " \n",
    "    # Since we will pad the data to satisfy AES's multiple-of-16 requirement, we will store the original data length and \"unpad\" it later.\n",
    "    original = len(data) \n",
    " \n",
    "    # Decrypts using AES\n",
    "    new = convert_to_RGB(aes_cbc_decrypt(key, iv, pad(data))[:original]) \n",
    "    \n",
    "    #create a file name out if not set \n",
    "    if not filename_out:\n",
    "        filename_out = os.path.splitext(filename)[0]+'.decoded'\n",
    "        \n",
    "    \n",
    "    # Create a new PIL Image object and save the old image data into the new image.\n",
    "    im2 = Image.new(im.mode, im.size)\n",
    "    im2.putdata(new)\n",
    "    \n",
    "    #Save image\n",
    "    im2.save(filename_out+\".\"+format, format)\n"
   ]
  },
  {
   "cell_type": "markdown",
   "metadata": {},
   "source": [
    "Now that we have all our functions and variables declared lets use the encrypt_image function to encrypt Tines.png\n",
    "\n",
    "Type the following into the code box below:\n",
    "\n",
    "``` encrypt_image('Tines.png')```"
   ]
  },
  {
   "cell_type": "code",
   "execution_count": 19,
   "metadata": {},
   "outputs": [],
   "source": []
  },
  {
   "cell_type": "markdown",
   "metadata": {},
   "source": [
    "### Go Look at the encrypted image! Its got a new name!\n",
    "\n",
    "Is it recognizable? is it jibberish just like when we encrypted text?\n",
    "\n",
    "### OMG?!? Can we get it back?\n",
    "Of course we can! if we use the same key, iv and mode!\n",
    "\n",
    "Type the following into the code box below:\n",
    "\n",
    "``` decrypt_image('Tines.encoded.BMP')```"
   ]
  },
  {
   "cell_type": "code",
   "execution_count": 20,
   "metadata": {},
   "outputs": [],
   "source": []
  }
 ],
 "metadata": {
  "kernelspec": {
   "display_name": "Python 3",
   "language": "python",
   "name": "python3"
  },
  "language_info": {
   "codemirror_mode": {
    "name": "ipython",
    "version": 3
   },
   "file_extension": ".py",
   "mimetype": "text/x-python",
   "name": "python",
   "nbconvert_exporter": "python",
   "pygments_lexer": "ipython3",
   "version": "3.7.3"
  }
 },
 "nbformat": 4,
 "nbformat_minor": 2
}
