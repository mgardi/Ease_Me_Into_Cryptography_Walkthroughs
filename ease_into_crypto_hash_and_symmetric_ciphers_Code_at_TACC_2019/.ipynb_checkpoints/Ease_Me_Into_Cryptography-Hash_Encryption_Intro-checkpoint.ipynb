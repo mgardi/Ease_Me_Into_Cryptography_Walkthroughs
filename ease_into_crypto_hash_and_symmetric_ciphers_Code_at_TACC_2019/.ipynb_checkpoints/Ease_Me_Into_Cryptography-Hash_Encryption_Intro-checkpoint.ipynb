{
 "cells": [
  {
   "cell_type": "markdown",
   "metadata": {},
   "source": [
    "# Cryptography: Getting Started with Hashing & Encryption"
   ]
  },
  {
   "cell_type": "markdown",
   "metadata": {},
   "source": [
    "This series is intended to be a layperson friendly explantion of the basics of cryptography. \n",
    "\n",
    "As with anything complex, there is jargon that makes the topic seem inaccessible. You'll see the most import terms and their defintions in bold throughout this walk through. Like this! \n",
    "* **term** *definition*\n",
    "\n",
    "Also! we will give you some extra info in blockquotes, like this \n",
    "> This info is good to know but dont worry no one is testing you on it \n",
    "\n",
    "Finally! There is no better way to learn then getting your hands dirty! We will ease you in by giving you \n",
    "```code snippets```\n",
    " but it will soak in a little better if you type it yourself instead of copying and pasting. \n",
    "\n",
    "## What is \"cryptography\"? \n",
    "\n",
    "The word \"cryptography\" comes from a combination of the Ancient Greek words kryptós for “hidden or secret” and graphein which is “to write”. At its most basic it is the ability to send and receive a private message. The *key* is that you want your recipient and only your recipient to be able to read the message. Therefore, in most cases cryptography is a 2-way street in hiding AND unhiding a communicated message.\n"
   ]
  },
  {
   "cell_type": "markdown",
   "metadata": {},
   "source": [
    "## We will start with the fundamentals\n",
    "\n",
    "A great place to jump in to understanding cryptographic fundamentals is to start with hash functions. What is a hash function? How is it useful? Are there weaknesses? Let’s take a look.\n",
    "\n",
    "## What is a hash function?\n",
    "\n",
    "A hash function is a non-reversible process for taking any length of input and spitting out a fixed-length value. In other words, it will scramble anything you give it in such a way that you cannot easily retrieve the un-scrambled version. A hash function unlike **cryptographic algorthims** is meant to work *one-way* so we can scramble the message but not get the message back. The output of a hash function is called a digest, but you’ll commonly see it referred to simply as the hash.\n",
    "\n",
    "* **Cryptographic Algorithm** *is just a fancy term for jibberish instructions. It’s what we call the ruleset that is used to take data from one state to another and (most of the time) back.*\n",
    "\n",
    "There are a bunch of hash functions but one of the most commonly used is SHA256, a version of the Secure Hashing Algorithm that gives a 256-bit (32 bytes) hash. It will give an output that is 32 bytes no matter the length of the input we give it. \n",
    "\n",
    "### We will see how this works by coding our own version so lets get started!\n",
    "### But, also, let's not make it too hard...\n",
    "In these walk throughs we will use the hash functions and **Cryptographic Algorithms** implemented in the Python Cryptography Toolkit (pycrypto). Pycrypto is a collection of both secure hash functions (such as SHA256 and RIPEMD160), and various encryption algorithms (AES, DES, RSA, ElGamal, XOR, etc.). Mostly it means we don't have to code the hard stuff from scratch. "
   ]
  },
  {
   "cell_type": "markdown",
   "metadata": {},
   "source": [
    "# Code a hash function"
   ]
  },
  {
   "cell_type": "markdown",
   "metadata": {},
   "source": [
    "Lets begin by importing SHA256 hash function from pycrypto. \n",
    "\n",
    "Type the following into the code box below:\n",
    "\n",
    "```from Crypto.Hash import SHA256```"
   ]
  },
  {
   "cell_type": "code",
   "execution_count": null,
   "metadata": {},
   "outputs": [],
   "source": []
  },
  {
   "cell_type": "markdown",
   "metadata": {},
   "source": [
    "So how do we use this imported hash function (SHA256)? To use a hash function like SHA256, we need do two things\n",
    "1. *Intialize* the hash object. \n",
    "2. Give it a string or message to hash "
   ]
  },
  {
   "cell_type": "markdown",
   "metadata": {},
   "source": [
    "To use the SHA256 hash function we need to *intilaize* a hash object. All that means is we give SHA256 a name so we can use it in our code, we will call ours hash_tool. \n",
    "\n",
    "Type the following into the code box below:\n",
    "\n",
    "```hash_tool = SHA256.new()\n",
    "```\n"
   ]
  },
  {
   "cell_type": "code",
   "execution_count": null,
   "metadata": {},
   "outputs": [],
   "source": []
  },
  {
   "cell_type": "markdown",
   "metadata": {},
   "source": [
    "Now let's create the string to hash and tell the hash_tool to use that string. \n",
    "\n",
    "Type the following into the code box below:\n",
    "\n",
    "```string_to_hash = \"Mari\"\n",
    "hash_tool.update(string_to_hash.encode('utf-8'))\n",
    "```\n",
    "\n",
    "Keep the name the same as the code snippet above, for now. "
   ]
  },
  {
   "cell_type": "code",
   "execution_count": null,
   "metadata": {},
   "outputs": [],
   "source": []
  },
  {
   "cell_type": "markdown",
   "metadata": {},
   "source": [
    "Now let's hash it!\n",
    "\n",
    "Type the following into the code box below:\n",
    "\n",
    "```digest = hash_tool.hexdigest()\n",
    "```"
   ]
  },
  {
   "cell_type": "code",
   "execution_count": null,
   "metadata": {},
   "outputs": [],
   "source": []
  },
  {
   "cell_type": "markdown",
   "metadata": {},
   "source": [
    "Lets take a look at the resulting hash!\n",
    "\n",
    "Type the following into the code box below:\n",
    "\n",
    "```print(\"The SHA256 digest of \" + string_to_hash + \" is: \" + digest)\n",
    "print(str(hash_tool.digest_size) + \" bytes long (\" + str(len(digest)) + \" characters)\")\n",
    "```"
   ]
  },
  {
   "cell_type": "code",
   "execution_count": null,
   "metadata": {},
   "outputs": [],
   "source": []
  },
  {
   "cell_type": "markdown",
   "metadata": {},
   "source": [
    "Does the resulting hash tell you anything about the orginal string we hasahed? Did you notice that \"Mari\" resulted in a 32 bit hash even though its 4 letters? Why is this useful? \n",
    "\n",
    "A common use of hash functions in the real world is for password hashing. Every site you log in to has to store your username and password somewhere, so that it remembers you and can verify “yes that is Mari’s password, let her log in”. However, if someone got a hold of that list, then they can now access all user accounts and passwords. Bad idea. \n",
    "\n",
    "Instead of keeping the actual password a company can keep a hash. So while the company cannot decrypt the password digests it has, using hashes it doesnt need to decrypt anything! All it needs is to be able to verify that the password being used is correct, all they need to do is compare the hash.\n",
    "\n",
    "\n",
    "## Let's see this in action!\n",
    "\n",
    "\n",
    "Review the code below. Do you recognize some of the same steps we did before? Can you find where the hash object is *intialized*? Or where the string to be hashed is declared?\n",
    "\n",
    "When you are done reviewing run the code block:"
   ]
  },
  {
   "cell_type": "code",
   "execution_count": null,
   "metadata": {},
   "outputs": [],
   "source": [
    "from Crypto.Hash import SHA256\n",
    "\n",
    "# initialize three new SHA256 hash objects\n",
    "hash_tool_1 = SHA256.new()\n",
    "hash_tool_2 = SHA256.new()\n",
    "hash_tool_3 = SHA256.new()\n",
    "\n",
    "# tell the hash objects what string I want it to hash\n",
    "string_to_hash_1 = \"Mari\" #notice these two are exactly the same\n",
    "string_to_hash_2 = \"Mari\" #notice these two are exactly the same\n",
    "string_to_hash_3 = \"mari\" #what is diffrent here?\n",
    "\n",
    "hash_tool_1.update(string_to_hash_1.encode('utf-8'))\n",
    "hash_tool_2.update(string_to_hash_2.encode('utf-8'))\n",
    "hash_tool_3.update(string_to_hash_3.encode('utf-8'))\n",
    "\n",
    "# hash it!\n",
    "digest_1 = hash_tool_1.hexdigest()\n",
    "digest_2 = hash_tool_2.hexdigest()\n",
    "digest_3 = hash_tool_3.hexdigest()\n",
    "\n",
    "# Print it pretty\n",
    "print(\"The SHA256 digest of \" + string_to_hash_1 + \" is: \" + digest_1)\n",
    "print(\"The SHA256 digest of \" + string_to_hash_2 + \" is: \" + digest_2)\n",
    "print(\"The SHA256 digest of \" + string_to_hash_3 + \" is: \" + digest_3)\n",
    "\n",
    "# Still 32bytes long?\n",
    "print(string_to_hash_1 + \" is: \" + str(hash_tool_1.digest_size) + \" bytes long (\" + str(len(digest_1)) + \" characters)\")\n",
    "print(string_to_hash_2 + \" is: \" + str(hash_tool_2.digest_size) + \" bytes long (\" + str(len(digest_2)) + \" characters)\")\n",
    "print(string_to_hash_3 + \" is: \" + str(hash_tool_3.digest_size) + \" bytes long (\" + str(len(digest_3)) + \" characters)\")\n",
    "\n"
   ]
  },
  {
   "cell_type": "markdown",
   "metadata": {},
   "source": [
    "Did you notice that a minor change in the string 'mari' \n",
    "## Hash your own name\n",
    "\n",
    "Change the code below to hash your own name\n",
    "\n",
    "Run the vode block when you are ready:"
   ]
  },
  {
   "cell_type": "code",
   "execution_count": null,
   "metadata": {},
   "outputs": [],
   "source": [
    "from Crypto.Hash import SHA256\n",
    "\n",
    "# initialize three new SHA256 hash objects\n",
    "hash_tool = SHA256.new()\n",
    "\n",
    "# tell the hash objects what string I want it to hash\n",
    "string_to_hash = \"<Name>\" \n",
    "hash_tool.update(string_to_hash.encode('utf-8'))\n",
    "\n",
    "# hash it!\n",
    "digest = hash_tool_1.hexdigest()\n",
    "\n",
    "# Print it pretty\n",
    "print(\"The SHA256 digest of \" + string_to_hash + \" is: \" + digest)\n"
   ]
  },
  {
   "cell_type": "markdown",
   "metadata": {},
   "source": [
    "Change the code above to hash a super long string like ```V2BnTRQfF3yn0NT54Wc8Ia7TiNpNsNN6B```. Is it stil 32 bits? Does it still look like gobbledygook? What kind of password do you think is easier to guess? Is it teh hashes "
   ]
  },
  {
   "cell_type": "markdown",
   "metadata": {},
   "source": [
    "# Hashes are fun but what else can you show me?"
   ]
  },
  {
   "cell_type": "markdown",
   "metadata": {},
   "source": [
    "Hashes can be useful when storing passwords but what do we use when we want to be able to encrypt, or hide a message, and then allow someone else decrypt, or read that message? Humans can't read hashes! How do we share messages and data securely? For that we use ciphers instead of hash functions. \n",
    "\n",
    "## What is a cipher?\n",
    "\n",
    "A cipher is a **cryptographic algorithm** that provides a way to encrypt as well as decrypt data. This allows someone to jumble up some info, send it safely without revealing the content, and have someone at the other end un-jumble it to see the original info.\n",
    "\n",
    "But it’s useless if we can’t control who is able to decrypt the message. Fortunately, there is another input to a cipher – the **key**! This is the small piece of information that is necessary in order to encrypt and decrypt information with a cipher. Some ciphers require other small details as well such as an initialization vector, but we are not going to focus on those for now.\n",
    "\n",
    "\n",
    "* A **key** *is a piece of information used as input into an encryption or decryption algorithm in addition to the data that needs to be transformed. The data cannot properly be transformed without the proper key data.*\n",
    "\n",
    "## Getting started with encryption\n",
    "\n",
    "Lets begin by importing a cryptographic algorithms from pycrypto. \n",
    "\n",
    "> A couple of well-known symmetric ciphers are AES and 3DES. AES stands for Advanced Encryption Standard and 3DES is also known as TDEA, Triple Data Encryption Algorithm. We will use AES in our examples with python below, since it is widely known.\n",
    "\n",
    "Type the following into the code box below:\n",
    "\n",
    "```from Crypto.Cipher import AES```"
   ]
  },
  {
   "cell_type": "code",
   "execution_count": null,
   "metadata": {},
   "outputs": [],
   "source": [
    "from Crypto.Cipher import AES"
   ]
  },
  {
   "cell_type": "markdown",
   "metadata": {},
   "source": [
    "So how do we use it (AES)? To use **symmetric ciphers** like AES, we put the **plaintext** and the **key** into the algorithm, tell the algorithim which direction we want to go (in this case encrypt), and it spits out **ciphertext** or encrypted message. \n",
    "\n",
    "* **Plaintext** *is your message, the content to be communicated and is understandable and readable.*\n",
    "* **Ciphertext** *is your hidden message, the content after it has been hidden (encrypted) and is no longer understandable.*\n",
    "* **Symmetric Ciphers** *are a family of ciphers that uses the same key to encrypt as it does to decrypt; these are sometimes referred to as secret key algorithms because if the key is the same on both sides, it needs to be kept secret so that not just anyone can decrypt it.*\n",
    "\n",
    "We will use the AES **cryptographic algorithm** to encrypt and decrypt some text next. It requires we declare a **key** and **plaintext variable**, but also the *initialization vector (IV)* as another piece of input that will go into the AES **cryptographic algorithm** as well as what *mode* we want the AES algorithim to run in. \n",
    "\n",
    "\n",
    "### Lets declare our variables!\n",
    "\n",
    "Type the following into the code box below:\n",
    "\n",
    "```key = b\"testkey,testkey!\"\n",
    "plaintext = b\"cryptography yay\"\n",
    "iv = b\"randomIVrandomIV\"\n",
    "mode = AES.MODE_CBC\n",
    "```"
   ]
  },
  {
   "cell_type": "code",
   "execution_count": null,
   "metadata": {},
   "outputs": [],
   "source": [
    "key = b\"testkey,testkey!\"\n",
    "plaintext = b\"cryptography yay\"\n",
    "iv = b\"randomIVrandomIV\"\n",
    "mode = AES.MODE_CBC"
   ]
  },
  {
   "cell_type": "markdown",
   "metadata": {},
   "source": [
    "Like before we will intialize a **cryptographic algorithim** object\n",
    "\n",
    "Typing the following into the code box below:\n",
    "\n",
    "```encrypt_tool = AES.new(key, mode, iv)```"
   ]
  },
  {
   "cell_type": "code",
   "execution_count": null,
   "metadata": {},
   "outputs": [],
   "source": [
    "encrypt_tool = AES.new(key, mode, iv)"
   ]
  },
  {
   "cell_type": "markdown",
   "metadata": {},
   "source": [
    "Now that we have intialized the encryption object lets use it to encrypt the **plaintext** to get the **ciphertext**\n",
    "\n",
    "Type the following into the code box below:\n",
    "\n",
    "```ciphertext = encrypt_tool.encrypt(plaintext)\n",
    "```"
   ]
  },
  {
   "cell_type": "code",
   "execution_count": null,
   "metadata": {},
   "outputs": [],
   "source": [
    "ciphertext = encrypt_tool.encrypt(plaintext)"
   ]
  },
  {
   "cell_type": "markdown",
   "metadata": {},
   "source": [
    "Lets look at our results!\n",
    "\n",
    "Type the following into the code box below:\n",
    "\n",
    "```print(\"AES encrypted data: \")\n",
    "print(ciphertext)\n",
    "```"
   ]
  },
  {
   "cell_type": "code",
   "execution_count": null,
   "metadata": {},
   "outputs": [],
   "source": [
    "print(\"AES encrypted data: \")\n",
    "print(ciphertext)"
   ]
  },
  {
   "cell_type": "markdown",
   "metadata": {},
   "source": [
    "### Okay now we have gobbledygook again, lets get our message back!\n",
    "\n",
    "Does it look similar to the hexadceimal hash we got earlier? Can we get this message back?\n",
    "\n",
    "Like before we will intialize a new instance of the cryptographic algorithim.\n",
    "* remember you need the same key, iv and mode to get your message back!\n",
    "\n",
    "Typing the following into the code box below:\n",
    "\n",
    "```decrypt_tool = AES.new(key, mode, iv)\n",
    "```"
   ]
  },
  {
   "cell_type": "code",
   "execution_count": null,
   "metadata": {},
   "outputs": [],
   "source": [
    "decrypt_tool = AES.new(key, mode, iv)"
   ]
  },
  {
   "cell_type": "markdown",
   "metadata": {},
   "source": [
    "Now that we have intialized the decryption object lets use it to decrypt the **ciphertext** to get the **plaintext**\n",
    "\n",
    "Type the following into the code box below:\n",
    "\n",
    "```decrypted_plaintext = decrypt_tool.decrypt(ciphertext)\n",
    "```"
   ]
  },
  {
   "cell_type": "code",
   "execution_count": null,
   "metadata": {},
   "outputs": [],
   "source": [
    "decrypted_plaintext = decrypt_tool.decrypt(ciphertext)"
   ]
  },
  {
   "cell_type": "markdown",
   "metadata": {},
   "source": [
    "Lets look at our results!\n",
    "\n",
    "Type the following into the code box below:\n",
    "\n",
    "```print(\"AES decrypted data: \")\n",
    "print(decrypted_plaintext)\n",
    "```"
   ]
  },
  {
   "cell_type": "code",
   "execution_count": null,
   "metadata": {},
   "outputs": [],
   "source": [
    "print(\"AES decrypted data: \")\n",
    "print(decrypted_plaintext)"
   ]
  },
  {
   "cell_type": "markdown",
   "metadata": {},
   "source": [
    "# You did it! \n",
    "## You have encrypted and decrypted!\n",
    "\n",
    "Did you you get back the message you started with?"
   ]
  },
  {
   "cell_type": "markdown",
   "metadata": {},
   "source": [
    "# Messages are fun, but  is that it? Can we encrypt something else?\n",
    "\n",
    "## YES! Encryption/decryption will work on **any** data\n",
    "\n",
    "When you use a secure protocol on the internet it encrypts *everything* you share not just the text you send so lets look at how that might work on other data like a photo or picture. \n",
    "\n",
    "Before we get started lets look at the original **plaintext** image. You should be able to find a 'Tines.png' image in the same folder this notebook is in by returning to the file tree. You can click on the jupyter logo to get there. \n",
    "\n",
    "---\n",
    "\n",
    "Welcome back! Did you see the picture? Good lets see what we can do with it!\n",
    "\n",
    "This time we went ahead and put it all together and provided the code below but read through it to see parts of the code we used above! \n",
    "\n",
    "Do you recognize some of the same steps we did before? Can you find the function that encrypts? The function that decrypts?\n",
    "\n",
    "When you are done reviewing run the code block:\n"
   ]
  },
  {
   "cell_type": "code",
   "execution_count": null,
   "metadata": {},
   "outputs": [],
   "source": [
    "from Crypto.Cipher import AES #Using Pycrypto so we dont have to code the hard stuff\n",
    "import os, random, struct\n",
    "from PIL import Image\n",
    "\n",
    "#Declare or variables required by the AES cryptographic algoritim\n",
    "key = b\"testkey,testkey!\"\n",
    "plaintext = b\"cryptography yay\"\n",
    "iv = b\"randomIVrandomIV\"\n",
    "mode = AES.MODE_CBC\n",
    "\n",
    "# AES CBC Encryption\n",
    "def aes_cbc_encrypt(key, iv, data, mode=AES.MODE_CBC):\n",
    "    aes_encrypt = AES.new(key, mode, iv) #Intilaize a encryption object\n",
    "    new_data = aes_encrypt.encrypt(data) #Encrypt your data or plaintext\n",
    "    return new_data\n",
    "\n",
    "# AES CBC Decryption\n",
    "def aes_cbc_decrypt(key, iv, data, mode=AES.MODE_CBC):\n",
    "    aes_decrypt = AES.new(key, mode, iv) #Intilaize a decryption object\n",
    "    new_data = aes_decrypt.decrypt(data) #Decrypt your data or ciphertext\n",
    "    return new_data\n",
    "\n",
    "# AES requires that plaintexts be a multiple of 16, so we add padding to data as needed\n",
    "def pad(data):\n",
    "    return data + b\"\\x00\"*(16-len(data)%16) \n",
    "\n",
    "# Maps the Red/Green/Blue or RGB of picture \n",
    "# So we can create a picture from the resulting encrypted/decrypted data\n",
    "def convert_to_RGB(data):\n",
    "    r, g, b = tuple(map(lambda d: [data[i] for i in range(0,len(data)) if i % 3 == d], [0, 1, 2]))\n",
    "    pixels = tuple(zip(r,g,b))\n",
    "    return pixels\n",
    "\n",
    "def encrypt_image(filename, filename_out=None ):\n",
    "    format = \"BMP\"\n",
    "    \n",
    "    # Opens image and converts it to RGB format for PIL (python library)\n",
    "    # Not prefect so you will see some data loss\n",
    "    im = Image.open(filename)\n",
    "    data = im.convert(\"RGB\").tobytes() \n",
    " \n",
    "    # Since we will pad the data to satisfy AES's multiple-of-16 requirement, \n",
    "    # we will store the original data length and \"unpad\" it later.\n",
    "    original = len(data) \n",
    " \n",
    "    # Encrypts using AES\n",
    "    new = convert_to_RGB(aes_cbc_encrypt(key, iv, pad(data))[:original]) \n",
    "    \n",
    "    #create a file name to save new data as if not set \n",
    "    if not filename_out:\n",
    "        filename_out = os.path.splitext(filename)[0]+'.encoded'\n",
    "        \n",
    "    \n",
    "    # Create a new PIL Image object and save the old image data into the new image.\n",
    "    im2 = Image.new(im.mode, im.size)\n",
    "    im2.putdata(new)\n",
    "    \n",
    "    #Save image\n",
    "    im2.save(filename_out+\".\"+format, format)\n",
    "    \n",
    "def decrypt_image(filename, filename_out=None ):\n",
    "    format = \"BMP\"\n",
    "    \n",
    "    # Opens image and converts it to RGB format for PIL (python library)\n",
    "    im = Image.open(filename)\n",
    "    data = im.convert(\"RGB\").tobytes() \n",
    " \n",
    "    # Since we will pad the data to satisfy AES's multiple-of-16 requirement, we will store the original data length and \"unpad\" it later.\n",
    "    original = len(data) \n",
    " \n",
    "    # Decrypts using AES\n",
    "    new = convert_to_RGB(aes_cbc_decrypt(key, iv, pad(data))[:original]) \n",
    "    \n",
    "    #create a file name out if not set \n",
    "    if not filename_out:\n",
    "        filename_out = os.path.splitext(filename)[0]+'.decoded'\n",
    "        \n",
    "    \n",
    "    # Create a new PIL Image object and save the old image data into the new image.\n",
    "    im2 = Image.new(im.mode, im.size)\n",
    "    im2.putdata(new)\n",
    "    \n",
    "    #Save image\n",
    "    im2.save(filename_out+\".\"+format, format)\n"
   ]
  },
  {
   "cell_type": "markdown",
   "metadata": {},
   "source": [
    "Now that we have all our functions and variables declared lets use the encrypt_image function to encrypt Tines.png\n",
    "\n",
    "Type the following into the code box below:\n",
    "\n",
    "``` encrypt_image('Tines.png')```"
   ]
  },
  {
   "cell_type": "code",
   "execution_count": null,
   "metadata": {},
   "outputs": [],
   "source": [
    "encrypt_image('Tines.png')"
   ]
  },
  {
   "cell_type": "markdown",
   "metadata": {},
   "source": [
    "### Go Look at the encrypted image! Its got a new name!\n",
    "\n",
    "Is it recognizable? is it jibberish just like when we encrypted text?\n",
    "\n",
    "### OMG?!? Can we get it back?\n",
    "Of course we can! if we use the same key, iv and mode!\n",
    "\n",
    "Type the following into the code box below:\n",
    "\n",
    "``` decrypt_image('Tines.encoded.BMP')```"
   ]
  },
  {
   "cell_type": "code",
   "execution_count": null,
   "metadata": {},
   "outputs": [],
   "source": [
    "decrypt_image('Tines.encoded.BMP')"
   ]
  },
  {
   "cell_type": "markdown",
   "metadata": {},
   "source": [
    "## Congrats you are done!\n",
    "\n",
    "You hashed, encrypted and decrypted! well done!"
   ]
  }
 ],
 "metadata": {
  "kernelspec": {
   "display_name": "Python 3",
   "language": "python",
   "name": "python3"
  },
  "language_info": {
   "codemirror_mode": {
    "name": "ipython",
    "version": 3
   },
   "file_extension": ".py",
   "mimetype": "text/x-python",
   "name": "python",
   "nbconvert_exporter": "python",
   "pygments_lexer": "ipython3",
   "version": "3.7.3"
  }
 },
 "nbformat": 4,
 "nbformat_minor": 2
}
