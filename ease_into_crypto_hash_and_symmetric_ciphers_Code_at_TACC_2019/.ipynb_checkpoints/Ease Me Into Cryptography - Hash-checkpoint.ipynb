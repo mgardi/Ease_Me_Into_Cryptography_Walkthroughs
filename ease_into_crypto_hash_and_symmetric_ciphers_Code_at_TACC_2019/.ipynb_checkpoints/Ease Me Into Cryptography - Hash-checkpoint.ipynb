{
 "cells": [
  {
   "cell_type": "markdown",
   "metadata": {},
   "source": [
    "# Cryptography: Getting Started with Hashing"
   ]
  },
  {
   "cell_type": "markdown",
   "metadata": {},
   "source": [
    "This series is intended to be a layperson friendly explantion of the basics of cryptography. \n",
    "\n",
    "As with anything complex, there is jargon that makes the topic seem inaccessible. You'll see the most import terms and their defintions in bold throughout this walk through. Like this! \n",
    "* **term** *definition*\n",
    "\n",
    "Also! we will give you some extra info in blockquotes, like this \n",
    "> This info is good to know but dont worry no one is testing you on it \n",
    "\n",
    "Finally! There is no better way to learn then getting your hands dirty! We will ease you in by giving you \n",
    "```code snippets```\n",
    " but it will soak in a little better if you type it yourself instead of copying and pasting. \n",
    "\n",
    "## What is \"cryptography\"? \n",
    "\n",
    "The word \"cryptography\" comes from a combination of the Ancient Greek words kryptós for “hidden or secret” and graphein which is “to write”. At its most basic it is the ability to send and receive a private message. The *key* is that you want your recipient and only your recipient to be able to read the message. Therefore, in most cases cryptography is a 2-way street in hiding AND unhiding a communicated message.\n"
   ]
  },
  {
   "cell_type": "markdown",
   "metadata": {},
   "source": [
    "## We will start with the fundamentals\n",
    "\n",
    "A great place to jump in to understanding cryptographic fundamentals is to start with hash functions. What is a hash function? How is it useful? Are there weaknesses? Let’s take a look.\n",
    "\n",
    "## What is a hash function?\n",
    "\n",
    "A hash function is a non-reversible process for taking any length of input and spitting out a fixed-length value. In other words, it will scramble anything you give it in such a way that you cannot easily retrieve the un-scrambled version. A hash function unlike **cryptographic algorthims** is meant to work *one-way* so we can scramble the message but not get the message back. The output of a hash function is called a digest, but you’ll commonly see it referred to simply as the hash.\n",
    "\n",
    "* **Cryptographic Algorithm** *is just a fancy term for jibberish instructions. It’s what we call the ruleset that is used to take data from one state to another and (most of the time) back.*\n",
    "\n",
    "There are a bunch of hash functions but one of the most commonly used is SHA256, a version of the Secure Hashing Algorithm that gives a 256-bit (32 bytes) hash. It will give an output that is 32 bytes no matter the length of the input we give it. \n",
    "\n",
    "### We will see how this works by coding our own version so lets get started!\n",
    "### But, also, let's not make it too hard...\n",
    "In these walk throughs we will use the hash functions and **Cryptographic Algorithms** implemented in the Python Cryptography Toolkit (pycrypto). Pycrypto is a collection of both secure hash functions (such as SHA256 and RIPEMD160), and various encryption algorithms (AES, DES, RSA, ElGamal, XOR, etc.). Mostly it means we don't have to code the hard stuff from scratch. "
   ]
  },
  {
   "cell_type": "markdown",
   "metadata": {},
   "source": [
    "# Code a hash function"
   ]
  },
  {
   "cell_type": "markdown",
   "metadata": {},
   "source": [
    "Lets begin by importing SHA256 hash function from pycrypto. \n",
    "\n",
    "Type the following into the code box below:\n",
    "\n",
    "```from Crypto.Hash import SHA256```"
   ]
  },
  {
   "cell_type": "code",
   "execution_count": null,
   "metadata": {},
   "outputs": [],
   "source": []
  },
  {
   "cell_type": "markdown",
   "metadata": {},
   "source": [
    "So how do we use this imported hash function (SHA256)? To use a hash function like SHA256, we need do two things\n",
    "1. *Intialize* the hash object. \n",
    "2. Give it a string or message to hash "
   ]
  },
  {
   "cell_type": "markdown",
   "metadata": {},
   "source": [
    "To use the SHA256 hash function we need to *intilaize* a hash object. All that means is we give SHA256 a name so we can use it in our code, we will call ours hash_tool. \n",
    "\n",
    "Type the following into the code box below:\n",
    "\n",
    "```hash_tool = SHA256.new()\n",
    "```\n"
   ]
  },
  {
   "cell_type": "code",
   "execution_count": null,
   "metadata": {},
   "outputs": [],
   "source": []
  },
  {
   "cell_type": "markdown",
   "metadata": {},
   "source": [
    "Now let's create the string to hash and tell the hash_tool to use that string. \n",
    "\n",
    "Type the following into the code box below:\n",
    "\n",
    "```string_to_hash = \"Mari\"\n",
    "hash_tool.update(string_to_hash.encode('utf-8'))\n",
    "```\n",
    "\n",
    "Keep the name the same as the code snippet above, for now. "
   ]
  },
  {
   "cell_type": "code",
   "execution_count": null,
   "metadata": {},
   "outputs": [],
   "source": []
  },
  {
   "cell_type": "markdown",
   "metadata": {},
   "source": [
    "Now let's hash it!\n",
    "\n",
    "Type the following into the code box below:\n",
    "\n",
    "```digest = hash_tool.hexdigest()\n",
    "```"
   ]
  },
  {
   "cell_type": "code",
   "execution_count": null,
   "metadata": {},
   "outputs": [],
   "source": []
  },
  {
   "cell_type": "markdown",
   "metadata": {},
   "source": [
    "Lets take a look at the resulting hash!\n",
    "\n",
    "Type the following into the code box below:\n",
    "\n",
    "```print(\"The SHA256 digest of \" + string_to_hash + \" is: \" + digest)\n",
    "print(str(hash_tool.digest_size) + \" bytes long (\" + str(len(digest)) + \" characters)\")\n",
    "```"
   ]
  },
  {
   "cell_type": "code",
   "execution_count": null,
   "metadata": {},
   "outputs": [],
   "source": []
  },
  {
   "cell_type": "markdown",
   "metadata": {},
   "source": [
    "Does the resulting hash tell you anything about the orginal string we hasahed? Did you notice that \"Mari\" resulted in a 32 bit hash even though its 4 letters? Why is this useful? \n",
    "\n",
    "A common use of hash functions in the real world is for password hashing. Every site you log in to has to store your username and password somewhere, so that it remembers you and can verify “yes that is Mari’s password, let her log in”. However, if someone got a hold of that list, then they can now access all user accounts and passwords. Bad idea. \n",
    "\n",
    "Instead of keeping the actual password a company can keep a hash. So while the company cannot decrypt the password digests it has, using hashes it doesnt need to decrypt anything! All it needs is to be able to verify that the password being used is correct, all they need to do is compare the hash.\n",
    "\n",
    "\n",
    "## Let's see this in action!\n",
    "\n",
    "\n",
    "Review the code below. Do you recognize some of the same steps we did before? Can you find where the hash object is *intialized*? Or where the string to be hashed is declared?\n",
    "\n",
    "When you are done reviewing run the code block:"
   ]
  },
  {
   "cell_type": "code",
   "execution_count": null,
   "metadata": {},
   "outputs": [],
   "source": [
    "from Crypto.Hash import SHA256\n",
    "\n",
    "# initialize three new SHA256 hash objects\n",
    "hash_tool_1 = SHA256.new()\n",
    "hash_tool_2 = SHA256.new()\n",
    "hash_tool_3 = SHA256.new()\n",
    "\n",
    "# tell the hash objects what string I want it to hash\n",
    "string_to_hash_1 = \"Mari\" #notice these two are exactly the same\n",
    "string_to_hash_2 = \"Mari\" #notice these two are exactly the same\n",
    "string_to_hash_3 = \"mari\" #what is diffrent here?\n",
    "\n",
    "hash_tool_1.update(string_to_hash_1.encode('utf-8'))\n",
    "hash_tool_2.update(string_to_hash_2.encode('utf-8'))\n",
    "hash_tool_3.update(string_to_hash_3.encode('utf-8'))\n",
    "\n",
    "# hash it!\n",
    "digest_1 = hash_tool_1.hexdigest()\n",
    "digest_2 = hash_tool_2.hexdigest()\n",
    "digest_3 = hash_tool_3.hexdigest()\n",
    "\n",
    "# Print it pretty\n",
    "print(\"The SHA256 digest of \" + string_to_hash_1 + \" is: \" + digest_1)\n",
    "print(\"The SHA256 digest of \" + string_to_hash_2 + \" is: \" + digest_2)\n",
    "print(\"The SHA256 digest of \" + string_to_hash_3 + \" is: \" + digest_3)\n",
    "\n",
    "# Still 32bytes long?\n",
    "print(string_to_hash_1 + \" is: \" + str(hash_tool_1.digest_size) + \" bytes long (\" + str(len(digest_1)) + \" characters)\")\n",
    "print(string_to_hash_2 + \" is: \" + str(hash_tool_2.digest_size) + \" bytes long (\" + str(len(digest_2)) + \" characters)\")\n",
    "print(string_to_hash_3 + \" is: \" + str(hash_tool_3.digest_size) + \" bytes long (\" + str(len(digest_3)) + \" characters)\")\n",
    "\n"
   ]
  },
  {
   "cell_type": "markdown",
   "metadata": {},
   "source": [
    "Did you notice that a minor change in the strings 'Mari' and 'mari' caused a big change in the hash?\n",
    "\n",
    "## Hash your own name\n",
    "\n",
    "Change the code below to hash your own name\n",
    "\n",
    "Run the code block when you are ready:"
   ]
  },
  {
   "cell_type": "code",
   "execution_count": null,
   "metadata": {},
   "outputs": [],
   "source": [
    "from Crypto.Hash import SHA256\n",
    "\n",
    "# initialize three new SHA256 hash objects\n",
    "hash_tool = SHA256.new()\n",
    "\n",
    "# tell the hash objects what string I want it to hash\n",
    "string_to_hash = \"<Name>\" \n",
    "hash_tool.update(string_to_hash.encode('utf-8'))\n",
    "\n",
    "# hash it!\n",
    "digest = hash_tool_1.hexdigest()\n",
    "\n",
    "# Print it pretty\n",
    "print(\"The SHA256 digest of \" + string_to_hash + \" is: \" + digest)\n"
   ]
  },
  {
   "cell_type": "markdown",
   "metadata": {},
   "source": [
    "Change the code above to hash a super long string like ```V2BnTRQfF3yn0NT54Wc8Ia7TiNpNsNN6B```. Is it stil 32 bits? Does it still look like gobbledygook? What kind of password do you think is easier to guess? Is it the hashes that give it aaway?"
   ]
  },
  {
   "cell_type": "markdown",
   "metadata": {},
   "source": [
    "## Congrats you did it!\n",
    "\n",
    "You hashed something at least 3 times! well done!"
   ]
  }
 ],
 "metadata": {
  "kernelspec": {
   "display_name": "Python 3",
   "language": "python",
   "name": "python3"
  },
  "language_info": {
   "codemirror_mode": {
    "name": "ipython",
    "version": 3
   },
   "file_extension": ".py",
   "mimetype": "text/x-python",
   "name": "python",
   "nbconvert_exporter": "python",
   "pygments_lexer": "ipython3",
   "version": "3.7.3"
  }
 },
 "nbformat": 4,
 "nbformat_minor": 2
}
