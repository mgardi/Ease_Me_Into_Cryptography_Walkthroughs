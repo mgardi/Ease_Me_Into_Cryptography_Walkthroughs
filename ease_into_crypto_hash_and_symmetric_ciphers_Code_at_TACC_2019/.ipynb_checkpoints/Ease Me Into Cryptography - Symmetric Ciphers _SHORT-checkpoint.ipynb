{
 "cells": [
  {
   "cell_type": "markdown",
   "metadata": {},
   "source": [
    "# Cryptography: Symmetric Ciphers"
   ]
  },
  {
   "cell_type": "markdown",
   "metadata": {},
   "source": [
    "This series is intended to be a layperson friendly explantion of the basics of cryptography. \n",
    "\n",
    "As with anything complex, there is jargon that makes the topic seem inaccessible. You'll see the most import terms and their defintions in bold throughout this walk through. Like this! \n",
    "* **term** *definition*\n",
    "\n",
    "Also! we will give you some extra info in blockquotes, like this \n",
    "> This info is good to know but dont worry no one is testing you on it \n",
    "\n",
    "Finally! There is no better way to learn then getting your hands dirty! We will ease you in by giving you \n",
    "```code snippets```\n",
    " but it will soak in a little better if you type it yourself instead of copying and pasting. \n",
    "\n",
    "## What is \"cryptography\"? \n",
    "\n",
    "The word \"cryptography\" comes from a combination of the Ancient Greek words kryptós for “hidden or secret” and graphein which is “to write”. At its most basic it is the ability to send and receive a private message. The *key* is that you want your recipient and only your recipient to be able to read the message. Therefore, in most cases cryptography is a 2-way street in hiding AND unhiding a communicated message.\n"
   ]
  },
  {
   "cell_type": "markdown",
   "metadata": {},
   "source": [
    "## What is a cipher?\n",
    "\n",
    "A cipher is a **cryptographic algorithm** that provides a way to encrypt as well as decrypt data. This allows someone to jumble up some info, send it safely without revealing the content, and have someone at the other end un-jumble it to see the original info.\n",
    "\n",
    "But it’s useless if we can’t control who is able to decrypt the message. Fortunately, there is another input to a cipher – the **key**! This is the small piece of information that is necessary in order to encrypt and decrypt information with a cipher. Some ciphers require other small details as well such as an initialization vector, but we are not going to focus on those for now.\n",
    "\n",
    "* **Cryptographic Algorithm** *is just a fancy term for jibberish instructions. It’s what we call the ruleset that is used to take data from one state to another and (most of the time) back.*\n",
    "\n",
    "* A **key** *is a piece of information used as input into an encryption or decryption algorithm in addition to the data that needs to be transformed. The data cannot properly be transformed without the proper key data.*\n"
   ]
  },
  {
   "cell_type": "markdown",
   "metadata": {},
   "source": [
    "## Let's make it easy!\n",
    "\n",
    "In this walk through we will use the **Cryptographic Algorithms** implemented in the Python Cryptography Toolkit (pycrypto). Pycrypto is a collection of both secure hash functions (such as SHA256 and RIPEMD160), and various encryption algorithms (AES, DES, RSA, ElGamal, XOR, etc.). But mostly it means we don't have to code the hard stuff from scratch. \n"
   ]
  },
  {
   "cell_type": "markdown",
   "metadata": {},
   "source": [
    "## Getting Started\n",
    "\n",
    "To use **symmetric ciphers** like AES, we put the **plaintext** and the **key** into the algorithm, tell the algorithim which direction we want to go (in this case encrypt), and it spits out **ciphertext** or encrypted message. \n",
    "\n",
    "* **Plaintext** *is your message, the content to be communicated and is understandable and readable.*\n",
    "* **Ciphertext** *is your hidden message, the content after it has been hidden (encrypted) and is no longer understandable.*\n",
    "* **Symmetric Ciphers** *are a family of ciphers that uses the same key to encrypt as it does to decrypt; these are sometimes referred to as secret key algorithms because if the key is the same on both sides, it needs to be kept secret so that not just anyone can decrypt it.*\n",
    "\n",
    "Lets begin by importing the **symmetric cipher** AES. \n",
    "\n",
    "Type the following into the code box below:\n",
    "\n",
    "```from Crypto.Cipher import AES```"
   ]
  },
  {
   "cell_type": "code",
   "execution_count": 1,
   "metadata": {},
   "outputs": [],
   "source": [
    "from Crypto.Cipher import AES"
   ]
  },
  {
   "cell_type": "markdown",
   "metadata": {},
   "source": [
    "We will use the **symmetric ciphers** AES to encrypt and decrypt. It requires we declare a **key** and **plaintext** variable, but also the *initialization vector (IV)* as another piece of input as well as what *mode* we want the AES algorithim to run in. We won't go into any detail here about IV or mode, for now you just need to know its required for the encryption to work. \n",
    "\n",
    "> A couple of well-known symmetric ciphers are AES and 3DES. AES stands for Advanced Encryption Standard and 3DES is also known as TDEA, Triple Data Encryption Algorithm. We will use AES in our examples with python below, since it is widely known.\n",
    "\n",
    "\n",
    "\n",
    "### Lets declare our required variables!\n",
    "\n",
    "Type the following into the code box below:\n",
    "\n",
    "```key = b\"testkey,testkey!\"\n",
    "plaintext = b\"cryptography yay\"\n",
    "iv = b\"randomIVrandomIV\"\n",
    "mode = AES.MODE_CBC\n",
    "```"
   ]
  },
  {
   "cell_type": "code",
   "execution_count": 2,
   "metadata": {},
   "outputs": [],
   "source": [
    "key = b\"testkey,testkey!\"\n",
    "plaintext = b\"cryptography yay\"\n",
    "iv = b\"randomIVrandomIV\"\n",
    "mode = AES.MODE_CBC"
   ]
  },
  {
   "cell_type": "markdown",
   "metadata": {},
   "source": [
    "To use the AES **symetric cipher** we need to intilaize a cipher object. All that means is we give AES a name so we can use it in our code, we will call ours encrypt_tool.\n",
    "\n",
    "Typing the following into the code box below:\n",
    "\n",
    "```encrypt_tool = AES.new(key, mode, iv)```"
   ]
  },
  {
   "cell_type": "code",
   "execution_count": 3,
   "metadata": {},
   "outputs": [],
   "source": [
    "encrypt_tool = AES.new(key, mode, iv)"
   ]
  },
  {
   "cell_type": "markdown",
   "metadata": {},
   "source": [
    "Now that we have intialized the cipher object lets use it to encrypt the **plaintext** to get the **ciphertext**\n",
    "\n",
    "Type the following into the code box below:\n",
    "\n",
    "```ciphertext = encrypt_tool.encrypt(plaintext)\n",
    "```"
   ]
  },
  {
   "cell_type": "code",
   "execution_count": 4,
   "metadata": {},
   "outputs": [],
   "source": [
    "ciphertext = encrypt_tool.encrypt(plaintext)"
   ]
  },
  {
   "cell_type": "markdown",
   "metadata": {},
   "source": [
    "Lets look at our results!\n",
    "\n",
    "Type the following into the code box below:\n",
    "\n",
    "```print(\"AES encrypted data: \")\n",
    "print(ciphertext)\n",
    "```"
   ]
  },
  {
   "cell_type": "code",
   "execution_count": 5,
   "metadata": {},
   "outputs": [
    {
     "name": "stdout",
     "output_type": "stream",
     "text": [
      "AES encrypted data: \n",
      "b'G\\x9a\\xed\\xadAp\\xf4\\x94\\x1cx\\xce\\x9d\\xc2\\xf6\\xccL'\n"
     ]
    }
   ],
   "source": [
    "print(\"AES encrypted data: \")\n",
    "print(ciphertext)"
   ]
  },
  {
   "cell_type": "markdown",
   "metadata": {},
   "source": [
    "### Okay now we have gobbledygook, lets get our message back!\n",
    "\n",
    "Like before we will intialize a new instance of the cipher object.\n",
    "* remember you need the same key, iv and mode to get your message back!\n",
    "\n",
    "Typing the following into the code box below:\n",
    "\n",
    "```decrypt_tool = AES.new(key, mode, iv)\n",
    "```"
   ]
  },
  {
   "cell_type": "code",
   "execution_count": 6,
   "metadata": {},
   "outputs": [],
   "source": [
    "decrypt_tool = AES.new(key, mode, iv)"
   ]
  },
  {
   "cell_type": "markdown",
   "metadata": {},
   "source": [
    "Now that we have intialized the decryption object lets use it to decrypt the **ciphertext** to get the **plaintext**\n",
    "\n",
    "Type the following into the code box below:\n",
    "\n",
    "```decrypted_plaintext = decrypt_tool.decrypt(ciphertext)\n",
    "```"
   ]
  },
  {
   "cell_type": "code",
   "execution_count": 7,
   "metadata": {},
   "outputs": [],
   "source": [
    "decrypted_plaintext = decrypt_tool.decrypt(ciphertext)"
   ]
  },
  {
   "cell_type": "markdown",
   "metadata": {},
   "source": [
    "Lets look at our results!\n",
    "\n",
    "Type the following into the code box below:\n",
    "\n",
    "```print(\"AES decrypted data: \")\n",
    "print(decrypted_plaintext)\n",
    "```"
   ]
  },
  {
   "cell_type": "code",
   "execution_count": 8,
   "metadata": {},
   "outputs": [
    {
     "name": "stdout",
     "output_type": "stream",
     "text": [
      "AES decrypted data: \n",
      "b'cryptography yay'\n"
     ]
    }
   ],
   "source": [
    "print(\"AES decrypted data: \")\n",
    "print(decrypted_plaintext)"
   ]
  },
  {
   "cell_type": "markdown",
   "metadata": {},
   "source": [
    "# You did it! \n",
    "## You have encrypted and decrypted!\n"
   ]
  },
  {
   "cell_type": "markdown",
   "metadata": {},
   "source": [
    "# Messages are fun, but  is that it? Can we encrypt something else?\n",
    "\n",
    "## YES! Encryption/decryption will work on **any** data\n",
    "\n",
    "When you use a secure protocol on the internet it encrypts *everything* you share not just the text you send so lets look at how that might work on other data like a photo or picture. \n",
    "\n",
    "Before we get started lets look at the original **plaintext** image. You should be able to find a 'Tines.png' image in the same folder this notebook is in by returning to the file tree. You can click on the jupyter logo to get there. \n",
    "\n",
    "---\n",
    "\n",
    "Welcome back! Did you see the picture? Good lets see what we can do with it!\n",
    "\n",
    "This time we went ahead and put it all together and provided the code below but read through it to see parts of the code we used above! \n",
    "\n",
    "Do you recognize some of the same steps we did before? Can you find the function that encrypts? The function that decrypts?\n",
    "\n",
    "When you are done reviewing run the code block:\n"
   ]
  },
  {
   "cell_type": "code",
   "execution_count": 1,
   "metadata": {},
   "outputs": [],
   "source": [
    "from Crypto.Cipher import AES #Using Pycrypto so we dont have to code the hard stuff\n",
    "import os, random, struct\n",
    "from PIL import Image\n",
    "\n",
    "#Declare or variables required by the AES cryptographic algoritim\n",
    "key = b\"testkey,testkey!\"\n",
    "plaintext = b\"cryptography yay\"\n",
    "iv = b\"randomIVrandomIV\"\n",
    "mode = AES.MODE_CBC\n",
    "\n",
    "# AES CBC Encryption\n",
    "def aes_cbc_encrypt(key, iv, data, mode=AES.MODE_CBC):\n",
    "    aes_encrypt = AES.new(key, mode, iv) #Intilaize a encryption object\n",
    "    new_data = aes_encrypt.encrypt(data) #Encrypt your data or plaintext\n",
    "    return new_data\n",
    "\n",
    "# AES CBC Decryption\n",
    "def aes_cbc_decrypt(key, iv, data, mode=AES.MODE_CBC):\n",
    "    aes_decrypt = AES.new(key, mode, iv) #Intilaize a decryption object\n",
    "    new_data = aes_decrypt.decrypt(data) #Decrypt your data or ciphertext\n",
    "    return new_data\n",
    "\n",
    "# AES requires that plaintexts be a multiple of 16, so we add padding to data as needed\n",
    "def pad(data):\n",
    "    return data + b\"\\x00\"*(16-len(data)%16) \n",
    "\n",
    "# Maps the Red/Green/Blue or RGB of picture \n",
    "# So we can create a picture from the resulting encrypted/decrypted data\n",
    "def convert_to_RGB(data):\n",
    "    r, g, b = tuple(map(lambda d: [data[i] for i in range(0,len(data)) if i % 3 == d], [0, 1, 2]))\n",
    "    pixels = tuple(zip(r,g,b))\n",
    "    return pixels\n",
    "\n",
    "def encrypt_image(filename, filename_out=None ):\n",
    "    format = \"BMP\"\n",
    "    \n",
    "    # Opens image and converts it to RGB format for PIL (python library)\n",
    "    # Not prefect so you will see some data loss\n",
    "    im = Image.open(filename)\n",
    "    data = im.convert(\"RGB\").tobytes() \n",
    " \n",
    "    # Since we will pad the data to satisfy AES's multiple-of-16 requirement, \n",
    "    # we will store the original data length and \"unpad\" it later.\n",
    "    original = len(data) \n",
    " \n",
    "    # Encrypts using AES\n",
    "    new = convert_to_RGB(aes_cbc_encrypt(key, iv, pad(data))[:original]) \n",
    "    \n",
    "    #create a file name to save new data as if not set \n",
    "    if not filename_out:\n",
    "        filename_out = os.path.splitext(filename)[0]+'.encoded'\n",
    "        \n",
    "    \n",
    "    # Create a new PIL Image object and save the old image data into the new image.\n",
    "    im2 = Image.new(im.mode, im.size)\n",
    "    im2.putdata(new)\n",
    "    \n",
    "    #Save image\n",
    "    im2.save(filename_out+\".\"+format, format)\n",
    "    \n",
    "def decrypt_image(filename, filename_out=None ):\n",
    "    format = \"BMP\"\n",
    "    \n",
    "    # Opens image and converts it to RGB format for PIL (python library)\n",
    "    im = Image.open(filename)\n",
    "    data = im.convert(\"RGB\").tobytes() \n",
    " \n",
    "    # Since we will pad the data to satisfy AES's multiple-of-16 requirement, we will store the original data length and \"unpad\" it later.\n",
    "    original = len(data) \n",
    " \n",
    "    # Decrypts using AES\n",
    "    new = convert_to_RGB(aes_cbc_decrypt(key, iv, pad(data))[:original]) \n",
    "    \n",
    "    #create a file name out if not set \n",
    "    if not filename_out:\n",
    "        filename_out = os.path.splitext(filename)[0]+'.decoded'\n",
    "        \n",
    "    \n",
    "    # Create a new PIL Image object and save the old image data into the new image.\n",
    "    im2 = Image.new(im.mode, im.size)\n",
    "    im2.putdata(new)\n",
    "    \n",
    "    #Save image\n",
    "    im2.save(filename_out+\".\"+format, format)\n"
   ]
  },
  {
   "cell_type": "markdown",
   "metadata": {},
   "source": [
    "Now that we have all our functions and variables declared lets use the encrypt_image function to encrypt Tines.png\n",
    "\n",
    "Type the following into the code box below:\n",
    "\n",
    "``` encrypt_image('Tines.png')```"
   ]
  },
  {
   "cell_type": "code",
   "execution_count": null,
   "metadata": {},
   "outputs": [],
   "source": []
  },
  {
   "cell_type": "markdown",
   "metadata": {},
   "source": [
    "### Go Look at the encrypted image! Its got a new name!\n",
    "\n",
    "Is it recognizable? is it jibberish just like when we encrypted text?\n",
    "\n",
    "### OMG?!? Can we get it back?\n",
    "Of course we can! if we use the same key, iv and mode!\n",
    "\n",
    "Type the following into the code box below:\n",
    "\n",
    "``` decrypt_image('Tines.encoded.BMP')```"
   ]
  },
  {
   "cell_type": "code",
   "execution_count": null,
   "metadata": {},
   "outputs": [],
   "source": []
  },
  {
   "cell_type": "markdown",
   "metadata": {},
   "source": [
    "## Congrats you did it!\n",
    "\n",
    "Well done!"
   ]
  }
 ],
 "metadata": {
  "kernelspec": {
   "display_name": "Python 3",
   "language": "python",
   "name": "python3"
  },
  "language_info": {
   "codemirror_mode": {
    "name": "ipython",
    "version": 3
   },
   "file_extension": ".py",
   "mimetype": "text/x-python",
   "name": "python",
   "nbconvert_exporter": "python",
   "pygments_lexer": "ipython3",
   "version": "3.7.3"
  }
 },
 "nbformat": 4,
 "nbformat_minor": 2
}
